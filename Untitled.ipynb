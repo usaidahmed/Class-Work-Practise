{
 "cells": [
  {
   "cell_type": "code",
   "execution_count": null,
   "metadata": {},
   "outputs": [],
   "source": [
    "import csv\n",
    "\n",
    "with open(\"Resultfile.csv\",\"w\") as f:\n",
    "    text2= csv.writer(f,delimiter = \",\")\n",
    "    for i in range(8):\n",
    "        \n",
    "        name=input(\"Enter your name:\")\n",
    "        Fathername= input(\"Enter your father name:\")\n",
    "        Rollno = input(\"Enter your Roll no:\")\n",
    "        Sindhi = input(\"Enter your marks\")\n",
    "        Computer = input(\"Enter your marks\")\n",
    "        Eng = input(\"Enter your marks\")\n",
    "        Chem = input(\"Enter your marks\")\n",
    "        Pst = input(\"Enter your marks\")\n",
    "        total_marks = 500\n",
    "        obtained_marks = (Sindhi + Computer + Eng + Chem + Pst)\n",
    "        \n",
    "        \n",
    "    \n",
    "    "
   ]
  },
  {
   "cell_type": "code",
   "execution_count": null,
   "metadata": {},
   "outputs": [],
   "source": []
  },
  {
   "cell_type": "code",
   "execution_count": null,
   "metadata": {},
   "outputs": [],
   "source": []
  }
 ],
 "metadata": {
  "kernelspec": {
   "display_name": "Python 3",
   "language": "python",
   "name": "python3"
  },
  "language_info": {
   "codemirror_mode": {
    "name": "ipython",
    "version": 3
   },
   "file_extension": ".py",
   "mimetype": "text/x-python",
   "name": "python",
   "nbconvert_exporter": "python",
   "pygments_lexer": "ipython3",
   "version": "3.7.3"
  }
 },
 "nbformat": 4,
 "nbformat_minor": 2
}
