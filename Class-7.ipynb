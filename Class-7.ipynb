{
 "cells": [
  {
   "cell_type": "markdown",
   "metadata": {},
   "source": [
    "# filing data"
   ]
  },
  {
   "cell_type": "code",
   "execution_count": 4,
   "metadata": {},
   "outputs": [],
   "source": [
    "with open(\"the.txt\",\"w\") as f:  #\"W\",\"r\",\"a\" is mode example w=write,r=read,a=append\n",
    "    f.write(\"Hello PIAIC\")\n",
    "    "
   ]
  },
  {
   "cell_type": "code",
   "execution_count": 5,
   "metadata": {},
   "outputs": [],
   "source": [
    "with open(\"the.txt\",\"a\") as f:\n",
    "    f.write(\"\\nMy name is Muzamil\\nMy age is 18\")"
   ]
  },
  {
   "cell_type": "code",
   "execution_count": 6,
   "metadata": {},
   "outputs": [
    {
     "name": "stdout",
     "output_type": "stream",
     "text": [
      "Hello PIAIC\n",
      "My name is Muzamil\n",
      "My age is 18\n"
     ]
    }
   ],
   "source": [
    "with open(\"the.txt\",\"r\") as f:\n",
    "    print(f.read())"
   ]
  },
  {
   "cell_type": "code",
   "execution_count": 7,
   "metadata": {},
   "outputs": [
    {
     "name": "stdout",
     "output_type": "stream",
     "text": [
      "Enter the name: erer\n",
      "Enter the age: 576\n",
      "Enter your cgpa: df\n",
      "Enter the name: 46\n",
      "Enter the age: 34\n",
      "Enter your cgpa: df\n",
      "Enter the name: ufdx\n",
      "Enter the age: 1\n",
      "Enter your cgpa: fr5\n",
      "Enter the name: sfda\n",
      "Enter the age: 46\n",
      "Enter your cgpa: saf\n",
      "Enter the name: td\n",
      "Enter the age: 2\n",
      "Enter your cgpa: de\n"
     ]
    }
   ],
   "source": [
    "with open(\"asd.csv\",\"w\") as f:\n",
    "    for i in range(5):\n",
    "        name=input(\"Enter the name: \")\n",
    "        age=input(\"Enter the age: \")\n",
    "        cgpa=input(\"Enter your cgpa: \")\n",
    "        f.write(name+\",\"+age+\",\"+cgpa+\"\\n\")\n",
    "    \n",
    "    "
   ]
  },
  {
   "cell_type": "code",
   "execution_count": 9,
   "metadata": {},
   "outputs": [
    {
     "name": "stdout",
     "output_type": "stream",
     "text": [
      "erer,576,df\n",
      "\n",
      "46,34,df\n",
      "\n",
      "ufdx,1,fr5\n",
      "\n",
      "sfda,46,saf\n",
      "\n",
      "td,2,de\n",
      "\n"
     ]
    }
   ],
   "source": [
    "with open(\"asd.csv\",\"r\") as f:\n",
    "    lines=f.readlines()\n",
    "    for l in lines:\n",
    "        print(l)"
   ]
  },
  {
   "cell_type": "code",
   "execution_count": 12,
   "metadata": {},
   "outputs": [
    {
     "data": {
      "text/plain": [
       "'pakistan,70,45\\n'"
      ]
     },
     "execution_count": 12,
     "metadata": {},
     "output_type": "execute_result"
    }
   ],
   "source": [
    "l"
   ]
  },
  {
   "cell_type": "code",
   "execution_count": 13,
   "metadata": {},
   "outputs": [
    {
     "data": {
      "text/plain": [
       "'pakistan,70,45\\n'"
      ]
     },
     "execution_count": 13,
     "metadata": {},
     "output_type": "execute_result"
    }
   ],
   "source": [
    "l"
   ]
  },
  {
   "cell_type": "code",
   "execution_count": 14,
   "metadata": {},
   "outputs": [
    {
     "data": {
      "text/plain": [
       "'pakistan,70,45\\n'"
      ]
     },
     "execution_count": 14,
     "metadata": {},
     "output_type": "execute_result"
    }
   ],
   "source": [
    "l"
   ]
  },
  {
   "cell_type": "code",
   "execution_count": 10,
   "metadata": {},
   "outputs": [
    {
     "name": "stdout",
     "output_type": "stream",
     "text": [
      "erer is adult\n",
      "46 is adult\n",
      "ufdx is not adult\n",
      "sfda is adult\n",
      "td is not adult\n"
     ]
    }
   ],
   "source": [
    "with open(\"asd.csv\",\"r\") as f:\n",
    "    lines=f.readlines()\n",
    "    for l in lines:\n",
    "        k=l.split(\",\")\n",
    "        age=int(k[1])\n",
    "        if age>18:\n",
    "            print(k[0],\"is adult\")\n",
    "        else:\n",
    "            print(k[0],\"is not adult\")\n",
    "        "
   ]
  },
  {
   "cell_type": "code",
   "execution_count": 11,
   "metadata": {},
   "outputs": [],
   "source": [
    "import csv"
   ]
  },
  {
   "cell_type": "code",
   "execution_count": 12,
   "metadata": {},
   "outputs": [
    {
     "name": "stdout",
     "output_type": "stream",
     "text": [
      "erer is adult\n",
      "46 is adult\n",
      "ufdx is not adult\n",
      "sfda is adult\n",
      "td is not adult\n"
     ]
    }
   ],
   "source": [
    "with open(\"asd.csv\",\"r\") as f:\n",
    "    text=csv.reader(f)\n",
    "    for k in text:\n",
    "        age=int(k[1])\n",
    "        if age>18:\n",
    "            print(k[0],\"is adult\")\n",
    "        else:\n",
    "            print(k[0],\"is not adult\")\n",
    "        "
   ]
  },
  {
   "cell_type": "code",
   "execution_count": 14,
   "metadata": {},
   "outputs": [
    {
     "name": "stdout",
     "output_type": "stream",
     "text": [
      "Enter the name: muzammil\n",
      "Enter the age: 23\n",
      "Enter your cgpa: 53\n",
      "Enter the name: asad\n",
      "Enter the age: 4\n",
      "Enter your cgpa: gf\n",
      "Enter the name: pakistan\n",
      "Enter the age: 77\n",
      "Enter your cgpa: er\n",
      "Enter the name: pak\n",
      "Enter the age: 213\n",
      "Enter your cgpa: 5\n",
      "Enter the name: gts\n",
      "Enter the age: 4\n",
      "Enter your cgpa: f4\n"
     ]
    }
   ],
   "source": [
    "with open(\"asd.csv\",\"w\") as f:\n",
    "    text=csv.writer(f,delimiter=\",\")\n",
    "    for i in range(5):\n",
    "        name=input(\"Enter the name: \")\n",
    "        age=input(\"Enter the age: \")\n",
    "        cgpa=input(\"Enter your cgpa: \")\n",
    "        text.writerow([name,age,cgpa])\n",
    "    \n",
    "    "
   ]
  },
  {
   "cell_type": "code",
   "execution_count": 19,
   "metadata": {},
   "outputs": [],
   "source": [
    "with open(\"cup.csv\",\"w\",newline=\"\") as f:\n",
    "    text=csv.writer(f,delimiter=\",\")\n",
    "    text.writerow([\"India\",9,16])\n",
    "    text.writerow([\"Aus\",9,12])\n",
    "    text.writerow([\"zewze\",9,10])\n",
    "    text.writerow([\"aus\",9,9])\n",
    "    text.writerow([\"eng\",9,9])\n",
    "    text.writerow([\"pak\",9,6])\n",
    "    text.writerow([\"west\",9,7])\n",
    "    text.writerow([\"ban\",9,6])\n",
    "    text.writerow([\"SA\",9,5])\n",
    "    \n",
    "    \n",
    "   "
   ]
  },
  {
   "cell_type": "code",
   "execution_count": 21,
   "metadata": {},
   "outputs": [
    {
     "name": "stdout",
     "output_type": "stream",
     "text": [
      "India is in semi\n",
      "Aus is not in semi\n",
      "zewze is not in semi\n",
      "aus is not in semi\n",
      "eng is not in semi\n",
      "pak is not in semi\n",
      "west is not in semi\n",
      "ban is not in semi\n",
      "SA is not in semi\n"
     ]
    }
   ],
   "source": [
    "with open(\"cup.csv\",\"r\",) as f:\n",
    "    text=csv.reader(f)\n",
    "    for k in text:\n",
    "        point=int(k[2])\n",
    "        if point>12:\n",
    "            print(k[0],\"is in semi\")\n",
    "        else:\n",
    "            print(k[0],\"is not in semi\")"
   ]
  },
  {
   "cell_type": "code",
   "execution_count": 22,
   "metadata": {},
   "outputs": [
    {
     "data": {
      "text/plain": [
       "bool"
      ]
     },
     "execution_count": 22,
     "metadata": {},
     "output_type": "execute_result"
    }
   ],
   "source": [
    "bool\n"
   ]
  },
  {
   "cell_type": "code",
   "execution_count": null,
   "metadata": {},
   "outputs": [],
   "source": []
  }
 ],
 "metadata": {
  "kernelspec": {
   "display_name": "Python 3",
   "language": "python",
   "name": "python3"
  },
  "language_info": {
   "codemirror_mode": {
    "name": "ipython",
    "version": 3
   },
   "file_extension": ".py",
   "mimetype": "text/x-python",
   "name": "python",
   "nbconvert_exporter": "python",
   "pygments_lexer": "ipython3",
   "version": "3.7.3"
  }
 },
 "nbformat": 4,
 "nbformat_minor": 2
}
