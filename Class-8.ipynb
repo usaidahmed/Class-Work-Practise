{
 "cells": [
  {
   "cell_type": "code",
   "execution_count": 1,
   "metadata": {},
   "outputs": [],
   "source": [
    "with open(\"qwe.txt\",\"w\") as f:\n",
    "    f.write(\"Salam\")"
   ]
  },
  {
   "cell_type": "code",
   "execution_count": 2,
   "metadata": {},
   "outputs": [],
   "source": [
    "with open (\"qwe.txt\",\"a\") as f:\n",
    "    f.write(\"\\nhello\\nworld\")"
   ]
  },
  {
   "cell_type": "code",
   "execution_count": 3,
   "metadata": {},
   "outputs": [
    {
     "name": "stdout",
     "output_type": "stream",
     "text": [
      "Salam\n",
      "hello\n",
      "world\n"
     ]
    }
   ],
   "source": [
    "with open(\"qwe.txt\",\"r\") as f:\n",
    "    print(f.read())"
   ]
  },
  {
   "cell_type": "code",
   "execution_count": 2,
   "metadata": {},
   "outputs": [],
   "source": [
    "import csv"
   ]
  },
  {
   "cell_type": "markdown",
   "metadata": {},
   "source": []
  },
  {
   "cell_type": "code",
   "execution_count": 7,
   "metadata": {},
   "outputs": [
    {
     "name": "stdout",
     "output_type": "stream",
     "text": [
      "Enter marks40\n",
      "Enter marks50\n",
      "Enter marks45\n",
      "Enter marks55\n",
      "Enter marks65\n"
     ]
    }
   ],
   "source": [
    "with open(\"result.csv\",\"w\",newline=\"\") as f:\n",
    "    marks=csv.writer(f,delimiter=\",\")\n",
    "    marks.writerow([\"Sindhi\",input(\"Enter marks\")])\n",
    "    marks.writerow([\"Chemistry\",input(\"Enter marks\")])\n",
    "    marks.writerow([\"P.S.T\",input(\"Enter marks\")])\n",
    "    marks.writerow([\"Eng\",input(\"Enter marks\")])\n",
    "    marks.writerow([\"Computer\",input(\"Enter marks\")])"
   ]
  },
  {
   "cell_type": "markdown",
   "metadata": {},
   "source": []
  },
  {
   "cell_type": "code",
   "execution_count": 10,
   "metadata": {},
   "outputs": [
    {
     "name": "stdout",
     "output_type": "stream",
     "text": [
      "255\n",
      "Your percentage is:51.00\n"
     ]
    }
   ],
   "source": [
    "with open(\"result.csv\",\"r\") as f:\n",
    "    per=csv.reader(f)\n",
    "    total=0\n",
    "    for val in per:\n",
    "        total+=int(val[1])\n",
    "    print(total)\n",
    "    percentage = (total/500)*100\n",
    "    print(\"Your percentage is:{:.2f}\" .format(percentage))"
   ]
  },
  {
   "cell_type": "code",
   "execution_count": null,
   "metadata": {},
   "outputs": [],
   "source": []
  }
 ],
 "metadata": {
  "kernelspec": {
   "display_name": "Python 3",
   "language": "python",
   "name": "python3"
  },
  "language_info": {
   "codemirror_mode": {
    "name": "ipython",
    "version": 3
   },
   "file_extension": ".py",
   "mimetype": "text/x-python",
   "name": "python",
   "nbconvert_exporter": "python",
   "pygments_lexer": "ipython3",
   "version": "3.7.3"
  }
 },
 "nbformat": 4,
 "nbformat_minor": 2
}
