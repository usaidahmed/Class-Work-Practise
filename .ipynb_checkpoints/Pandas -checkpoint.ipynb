{
 "cells": [
  {
   "cell_type": "code",
   "execution_count": 2,
   "metadata": {},
   "outputs": [
    {
     "name": "stdout",
     "output_type": "stream",
     "text": [
      "               b         d         e\n",
      "Utah    0.053135 -0.032408 -1.036822\n",
      "Ohio   -0.879231 -1.848732  0.372610\n",
      "Texas   0.148345 -1.457227  1.798959\n",
      "Oregon -1.326640 -2.431284  1.265420\n"
     ]
    }
   ],
   "source": [
    "import numpy as np\n",
    "import pandas as pd\n",
    "frame = pd.DataFrame(np.random.randn(4,3),\n",
    "                    columns = list(\"bde\"),\n",
    "                    index = [\"Utah\",\"Ohio\",\"Texas\",\"Oregon\"])\n",
    "print(frame)\n",
    "#print(np.abs(frame))\n",
    "\n",
    "#print(frame[\"a\"].min())\n",
    "#print(frame[\"d\"].max())\n",
    "#print(frame[\"a\"].max()-frame[\"a\"].min())\n",
    "\n",
    "f = lambda x: x.max() - x.min()\n",
    "\n",
    "df = frame.apply(f)\n",
    "#print(df,type.df)\n",
    "df = frame.apply(f,axis=1)\n",
    "#print(df)\n",
    "\n",
    "def min_max(currentColumn):\n",
    "    #print(type(x))\n",
    "    #print(type(x.index, x.values)\n",
    "    minimum = currentColumn.min()\n",
    "    maximum = currentColumn.max()\n",
    "    series1 = pd.Series( [minimum , maximum ],\n",
    "                       index = [\"min\" , \"max\"])\n",
    "    print(series1)\n",
    "    return series1"
   ]
  },
  {
   "cell_type": "code",
   "execution_count": null,
   "metadata": {},
   "outputs": [],
   "source": []
  }
 ],
 "metadata": {
  "kernelspec": {
   "display_name": "Python 3",
   "language": "python",
   "name": "python3"
  },
  "language_info": {
   "codemirror_mode": {
    "name": "ipython",
    "version": 3
   },
   "file_extension": ".py",
   "mimetype": "text/x-python",
   "name": "python",
   "nbconvert_exporter": "python",
   "pygments_lexer": "ipython3",
   "version": "3.7.3"
  }
 },
 "nbformat": 4,
 "nbformat_minor": 2
}
