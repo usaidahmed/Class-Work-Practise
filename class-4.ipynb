{
 "cells": [
  {
   "cell_type": "code",
   "execution_count": 6,
   "metadata": {},
   "outputs": [
    {
     "name": "stdout",
     "output_type": "stream",
     "text": [
      "Enter a no4\n",
      "Number is not prime\n",
      "\n"
     ]
    }
   ],
   "source": [
    "pr=int(input(\"Enter a no\"))\n",
    "flag=False\n",
    "for i in range(2,pr):\n",
    "    if pr%i==0:\n",
    "        print(\"Number is not prime\")\n",
    "        flag=True\n",
    "        break\n",
    "if flag==False:\n",
    "    print(\"number is prime\")\n",
    "              \n",
    "print()"
   ]
  },
  {
   "cell_type": "code",
   "execution_count": 9,
   "metadata": {},
   "outputs": [],
   "source": [
    "#types of functions:\n",
    "\n",
    "#1==  #take nothing returns nothing\n",
    "#2==  #take something returns nothing\n",
    "#3    #take nothing return something\n",
    "#4    #take something return something"
   ]
  },
  {
   "cell_type": "code",
   "execution_count": 10,
   "metadata": {},
   "outputs": [
    {
     "name": "stdout",
     "output_type": "stream",
     "text": [
      "5\n"
     ]
    }
   ],
   "source": [
    "#1\n",
    "def sum():\n",
    "    a=1\n",
    "    b=4\n",
    "    print(a+b)\n",
    "sum()"
   ]
  },
  {
   "cell_type": "code",
   "execution_count": 11,
   "metadata": {},
   "outputs": [
    {
     "name": "stdout",
     "output_type": "stream",
     "text": [
      "11\n"
     ]
    }
   ],
   "source": [
    "#2\n",
    "def sum(value1,value2):\n",
    "    print(value1+value2)\n",
    "sum(4,7)"
   ]
  },
  {
   "cell_type": "code",
   "execution_count": 12,
   "metadata": {},
   "outputs": [
    {
     "name": "stdout",
     "output_type": "stream",
     "text": [
      "12\n"
     ]
    }
   ],
   "source": [
    "#3\n",
    "def sum():\n",
    "    a=4\n",
    "    b=8\n",
    "    return(a+b)\n",
    "result=sum()\n",
    "print(result)"
   ]
  },
  {
   "cell_type": "code",
   "execution_count": 29,
   "metadata": {},
   "outputs": [
    {
     "data": {
      "text/plain": [
       "8"
      ]
     },
     "execution_count": 29,
     "metadata": {},
     "output_type": "execute_result"
    }
   ],
   "source": [
    "#4\n",
    "def sum(value1,value2):\n",
    "    return(value1+value2)\n",
    "sum(3,5)\n"
   ]
  },
  {
   "cell_type": "code",
   "execution_count": 15,
   "metadata": {},
   "outputs": [],
   "source": [
    "def sum(a,b):\n",
    "    return(a+b)"
   ]
  },
  {
   "cell_type": "code",
   "execution_count": 16,
   "metadata": {},
   "outputs": [],
   "source": [
    "def div(a,b):\n",
    "    return(a/b)"
   ]
  },
  {
   "cell_type": "code",
   "execution_count": 17,
   "metadata": {},
   "outputs": [],
   "source": [
    "def mul(a,b):\n",
    "    return(a*b)"
   ]
  },
  {
   "cell_type": "code",
   "execution_count": 19,
   "metadata": {},
   "outputs": [],
   "source": [
    "def sub(a,b):\n",
    "    return(a-b)"
   ]
  },
  {
   "cell_type": "code",
   "execution_count": 21,
   "metadata": {},
   "outputs": [
    {
     "name": "stdout",
     "output_type": "stream",
     "text": [
      "Enter the first no 6\n",
      "Enter the second no 4\n",
      "Enter the operator +\n",
      "4.0 + 4.0 = 10.0\n"
     ]
    }
   ],
   "source": [
    "n=float(input(\"Enter the first no \"))\n",
    "m=float(input(\"Enter the second no \"))\n",
    "op=input(\"Enter the operator \")\n",
    "r=()\n",
    "if(op==\"+\"):\n",
    "    r=sum(n,m)\n",
    "elif(op==\"-\"):\n",
    "    r=sub(n,m)\n",
    "elif(op==\"*\"):\n",
    "    r=mul(n,m)\n",
    "elif(op==\"/\"):\n",
    "    r=div(n,m)\n",
    "\n",
    "\n",
    "print(m,op,m,\"=\",r)"
   ]
  },
  {
   "cell_type": "code",
   "execution_count": 22,
   "metadata": {},
   "outputs": [],
   "source": [
    "def m(**args):\n",
    "    print(args)"
   ]
  },
  {
   "cell_type": "code",
   "execution_count": 23,
   "metadata": {},
   "outputs": [
    {
     "name": "stdout",
     "output_type": "stream",
     "text": [
      "{'pak': 2, 'sl': 5, 'ind': 6}\n"
     ]
    }
   ],
   "source": [
    "m(pak=2,sl=5,ind=6)"
   ]
  },
  {
   "cell_type": "code",
   "execution_count": 27,
   "metadata": {},
   "outputs": [],
   "source": [
    "def n(*l):\n",
    "    print(l)"
   ]
  },
  {
   "cell_type": "code",
   "execution_count": 28,
   "metadata": {},
   "outputs": [
    {
     "name": "stdout",
     "output_type": "stream",
     "text": [
      "(56, 75, 's', 65)\n"
     ]
    }
   ],
   "source": [
    "n(56,75,\"s\",65,)"
   ]
  },
  {
   "cell_type": "markdown",
   "metadata": {},
   "source": [
    "# object oriented programing"
   ]
  },
  {
   "cell_type": "code",
   "execution_count": 31,
   "metadata": {},
   "outputs": [],
   "source": [
    "#hr kam object k zarie program krna \n",
    "#object form:\n",
    "#data\n",
    "#behaviuor\n",
    "#jb hm class bnate hn is me hm data rekhte hn or procedure bhi\n",
    "#base of object oriented programing\n",
    "#Encapsulation\n",
    "#inheritance\n",
    "#polymorphism\n",
    "#\n",
    "#\n",
    "#\n",
    "#\n",
    "    "
   ]
  },
  {
   "cell_type": "code",
   "execution_count": 67,
   "metadata": {},
   "outputs": [],
   "source": [
    "class student:\n",
    "    def __init__(self,name,id):\n",
    "        self.name=name\n",
    "        self.id=id\n",
    "    def printdata(self):\n",
    "        print(\"Student name is \",self.name,\"Student ID is \",self.id)\n",
    "\n",
    "        "
   ]
  },
  {
   "cell_type": "code",
   "execution_count": 68,
   "metadata": {},
   "outputs": [],
   "source": [
    "student1=student(\"fahad\",1)\n",
    "student2=student(\"asad\",2)"
   ]
  },
  {
   "cell_type": "code",
   "execution_count": null,
   "metadata": {},
   "outputs": [],
   "source": []
  },
  {
   "cell_type": "code",
   "execution_count": null,
   "metadata": {},
   "outputs": [],
   "source": []
  },
  {
   "cell_type": "code",
   "execution_count": null,
   "metadata": {},
   "outputs": [],
   "source": []
  },
  {
   "cell_type": "code",
   "execution_count": 69,
   "metadata": {},
   "outputs": [
    {
     "name": "stdout",
     "output_type": "stream",
     "text": [
      "Student name is  fahad Student ID is  1\n",
      "Student name is  asad Student ID is  2\n"
     ]
    }
   ],
   "source": [
    "student1.printdata()\n",
    "student2.printdata()"
   ]
  },
  {
   "cell_type": "code",
   "execution_count": 95,
   "metadata": {},
   "outputs": [],
   "source": [
    "#class shape\n",
    "\n",
    "class shape(): #\n",
    "    def __init__(self,side,color):#self is an implicit variable\n",
    "        self.side=side\n",
    "        self.color=color\n",
    "    def Draw(self):\n",
    "        print(\"Drawing\")\n",
    "        \n",
    "\n",
    "        "
   ]
  },
  {
   "cell_type": "code",
   "execution_count": 96,
   "metadata": {},
   "outputs": [],
   "source": [
    "shape1=shape(4,\"red\")"
   ]
  },
  {
   "cell_type": "code",
   "execution_count": 104,
   "metadata": {},
   "outputs": [
    {
     "data": {
      "text/plain": [
       "4"
      ]
     },
     "execution_count": 104,
     "metadata": {},
     "output_type": "execute_result"
    }
   ],
   "source": [
    "shape1.side"
   ]
  },
  {
   "cell_type": "code",
   "execution_count": 121,
   "metadata": {},
   "outputs": [],
   "source": [
    "class AIstudent():\n",
    "    def __init__(self):\n",
    "        self.name=\"Muzammil\"\n",
    "        self.id=12345\n",
    "        self.age=18\n",
    "    "
   ]
  },
  {
   "cell_type": "code",
   "execution_count": 122,
   "metadata": {},
   "outputs": [],
   "source": [
    "AIstudent1=AIstudent()"
   ]
  },
  {
   "cell_type": "code",
   "execution_count": 123,
   "metadata": {},
   "outputs": [
    {
     "data": {
      "text/plain": [
       "'Muzammil'"
      ]
     },
     "execution_count": 123,
     "metadata": {},
     "output_type": "execute_result"
    }
   ],
   "source": [
    "AIstudent1.name"
   ]
  },
  {
   "cell_type": "code",
   "execution_count": 124,
   "metadata": {},
   "outputs": [
    {
     "data": {
      "text/plain": [
       "18"
      ]
     },
     "execution_count": 124,
     "metadata": {},
     "output_type": "execute_result"
    }
   ],
   "source": [
    "AIstudent1.age"
   ]
  },
  {
   "cell_type": "markdown",
   "metadata": {},
   "source": [
    "AIstudent1.address"
   ]
  },
  {
   "cell_type": "code",
   "execution_count": null,
   "metadata": {},
   "outputs": [],
   "source": []
  },
  {
   "cell_type": "code",
   "execution_count": null,
   "metadata": {},
   "outputs": [],
   "source": []
  }
 ],
 "metadata": {
  "kernelspec": {
   "display_name": "Python 3",
   "language": "python",
   "name": "python3"
  },
  "language_info": {
   "codemirror_mode": {
    "name": "ipython",
    "version": 3
   },
   "file_extension": ".py",
   "mimetype": "text/x-python",
   "name": "python",
   "nbconvert_exporter": "python",
   "pygments_lexer": "ipython3",
   "version": "3.7.3"
  }
 },
 "nbformat": 4,
 "nbformat_minor": 2
}
